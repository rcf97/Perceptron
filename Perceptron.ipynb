{
 "cells": [
  {
   "cell_type": "markdown",
   "metadata": {
    "id": "DVL7_bgmIAPR"
   },
   "source": [
    "# Perceptron Implementation\n",
    "\n",
    "* R. Connor Franckowiak \n",
    "* Jan. 31, 2021"
   ]
  },
  {
   "cell_type": "code",
   "execution_count": 25,
   "metadata": {
    "id": "6ZbYjZZZ_yLV"
   },
   "outputs": [],
   "source": [
    "from sklearn.base import BaseEstimator, ClassifierMixin\n",
    "from sklearn.linear_model import Perceptron\n",
    "import numpy as np\n",
    "import matplotlib.pyplot as plt\n",
    "from scipy.io import arff\n",
    "import pandas as pd"
   ]
  },
  {
   "cell_type": "markdown",
   "metadata": {
    "id": "sCcEPx5VIORj"
   },
   "source": [
    "## Implement the perceptron learning algorithm. \n",
    "\n",
    "### Notes:\n",
    "- Shuffle the data each epoch.\n",
    "- Implemented way to create a random train/test split\n",
    "- Use Stochastic/On-line training updates\n",
    "- Implemented stopping criteria"
   ]
  },
  {
   "cell_type": "code",
   "execution_count": 26,
   "metadata": {
    "id": "_a2KSZ_7AN0G"
   },
   "outputs": [],
   "source": [
    "class PerceptronClassifier(BaseEstimator,ClassifierMixin):\n",
    "\n",
    "    def __init__(self, lr=.1, Deterministic=None, shuffle=True):\n",
    "        \"\"\" \n",
    "            Initialize class with chosen hyperparameters.\n",
    "        Args:\n",
    "            lr (float): A learning rate / step size.\n",
    "            Deterministic (int): a set number of epochs to train on if not None\n",
    "            shuffle: Whether to shuffle the training data each epoch. DO NOT \n",
    "                SHUFFLE for evaluation / debug datasets.\n",
    "        \"\"\"\n",
    "        self.lr = lr\n",
    "        self.Deterministic = Deterministic\n",
    "        self.shuffle = shuffle\n",
    "        self.epoch_accuracies = []\n",
    "\n",
    "    def fit(self, X, y, initial_weights=None):\n",
    "        \"\"\" \n",
    "            Fit the data; run the algorithm and adjust the weights to find a \n",
    "            good solution\n",
    "        Args:\n",
    "            X (array-like): A 2D numpy array with the training data, excluding\n",
    "            targets\n",
    "            y (array-like): A 2D numpy array with the training targets\n",
    "            initial_weights (array-like): allows the user to provide initial \n",
    "                weights\n",
    "        Returns:\n",
    "            self: this allows this to be chained, e.g. model.fit(X,y).predict(X_test)\n",
    "        \"\"\"\n",
    "        self.weights = self.initialize_weights(X.shape[1]) if initial_weights is None else initial_weights\n",
    "        \n",
    "        n = X.shape[0]                      #Number of training instances\n",
    "        X_ = np.column_stack((X,np.array([1 for i in range(n)])))    # Add bias input column\n",
    "        self.epoch_accuracies = []                 # Keep track of accuries to track the amount of change\n",
    "        num_iter = 0\n",
    "        while True:\n",
    "            if self.shuffle:\n",
    "                self._shuffle_data(X_,y)\n",
    "            for i in range(n):\n",
    "                net = np.dot(X_[i,:], self.weights)\n",
    "                #See if neuron fires\n",
    "                output = 0 if net <= 0 else 1\n",
    "                #Modify weights after each training instance\n",
    "                if output != y[i]:\n",
    "                    self.weights = self.weights + self.lr * (y[i] - output) * X_[i,:]\n",
    "            # Break after so many epochs if deterministic\n",
    "            num_iter += 1\n",
    "            if self.Deterministic and num_iter >= self.Deterministic:\n",
    "                break\n",
    "            # After each epoch, check the score\n",
    "            # Stopping critera is if there is no change of more than 5% in the last 5 epochs,\n",
    "            # then stop the training.\n",
    "            self.epoch_accuracies.append(self.score(X,y))\n",
    "            if len(self.epoch_accuracies) > 5:\n",
    "                self.epoch_accuracies.pop(0)\n",
    "            if not self.Deterministic and len(self.epoch_accuracies) == 5 and (np.max(self.epoch_accuracies) - np.min(self.epoch_accuracies)) <= .05:\n",
    "                self.epochs = num_iter\n",
    "                break\n",
    "            \n",
    "\n",
    "        return self\n",
    "\n",
    "    def predict(self, X):\n",
    "        \"\"\" \n",
    "            Predict all classes for a dataset X\n",
    "        Args:\n",
    "            X (array-like): A 2D numpy array with the training data, excluding \n",
    "            targets\n",
    "        Returns:\n",
    "            array, shape (n_samples,)\n",
    "                Predicted target values per element in X.\n",
    "        \"\"\"\n",
    "        n = X.shape[0]                      # Number of training instances\n",
    "        X_ = np.column_stack((X,np.array([1 for i in range(n)])))    # Add bias input column\n",
    "        y = []\n",
    "        # Iterate through each data instance\n",
    "        for i in range(n):\n",
    "            net = np.sum(X_[i,:] * self.weights)\n",
    "            #See if neuron fires\n",
    "            output = 0 if net < 0 else 1\n",
    "            y.append(output)\n",
    "        return np.array(y)\n",
    "        \n",
    "\n",
    "    def initialize_weights(self, n):\n",
    "        \"\"\" Initialize weights for perceptron. Don't forget the bias!\n",
    "        Args:\n",
    "            n (int): number of features of the inputted data\n",
    "        Returns:\n",
    "            array, shape(n+1,) of weights, including bias weight\n",
    "        \"\"\"\n",
    "        return np.array([0 for i in range(n+1)])\n",
    "\n",
    "    def score(self, X, y):\n",
    "        \"\"\" \n",
    "            Return accuracy of model on a given dataset. Must implement own \n",
    "            score function.\n",
    "        Args:\n",
    "            X (array-like): A 2D numpy array with data, excluding targets\n",
    "            y (array-like): A 2D numpy array with targets\n",
    "        Returns:\n",
    "            score : float\n",
    "                Mean accuracy of self.predict(X) wrt. y.\n",
    "        \"\"\"\n",
    "        n = X.shape[0]   #Number of data points\n",
    "        p = self.predict(X)    # Predicted outputs\n",
    "        num_incorrect = np.count_nonzero(y-p)   #if target and prediction differ, result in nonzero.\n",
    "        return (n-num_incorrect)/n\n",
    "\n",
    "    def _shuffle_data(self, X, y):\n",
    "        \"\"\" \n",
    "            Shuffle the data! This _ prefix suggests that this method should \n",
    "            only be called internally.\n",
    "            It might be easier to concatenate X & y and shuffle a single 2D \n",
    "            array, rather than shuffling X and y exactly the same way, \n",
    "            independently.\n",
    "        \"\"\"\n",
    "        indices = [i for i in range(X.shape[0])]\n",
    "        np.random.shuffle(indices)\n",
    "        X = X[indices,:]\n",
    "        y = y[indices]\n",
    "        \n",
    "\n",
    "    ### Not required by sk-learn but required by us for grading. Returns the weights.\n",
    "    def get_weights(self):\n",
    "        return self.weights"
   ]
  },
  {
   "cell_type": "markdown",
   "metadata": {
    "id": "KibCIXIThpbE"
   },
   "source": [
    "## Debug \n",
    "\n",
    "Debug model by running it on the [debug dataset](https://raw.githubusercontent.com/cs472ta/CS472/master/datasets/linsep2nonorigin.arff)\n",
    "\n",
    "Parameters:\n",
    "\n",
    "Learning Rate = 0.1\\\n",
    "Deterministic = 10\\\n",
    "Shuffle = False\\\n",
    "Initial Weights = All zeros"
   ]
  },
  {
   "cell_type": "code",
   "execution_count": 27,
   "metadata": {
    "id": "KgAyy82gixIF"
   },
   "outputs": [
    {
     "name": "stdout",
     "output_type": "stream",
     "text": [
      "  % Total    % Received % Xferd  Average Speed   Time    Time     Time  Current\n",
      "                                 Dload  Upload   Total   Spent    Left  Speed\n",
      "100   197  100   197    0     0   1824      0 --:--:-- --:--:-- --:--:--  1824\n",
      "\n",
      "Accuracy: 0.875\n",
      "Weights: [-0.23000000000000004 0.1799999999999999 -0.1]\n"
     ]
    }
   ],
   "source": [
    "# Load debug data\n",
    "# Download file with curl\n",
    "!curl https://raw.githubusercontent.com/cs472ta/CS472/master/datasets/linsep2nonorigin.arff --output linsep2nonorigin.arff\n",
    "\n",
    "data = arff.loadarff('linsep2nonorigin.arff')\n",
    "df = pd.DataFrame(data[0])\n",
    "df.head()\n",
    "debug = np.array(df)\n",
    "\n",
    "X = debug[:,:-1]\n",
    "y = debug[:,-1]\n",
    "y[y == b'1'] = int(1)\n",
    "y[y == b'0'] = int(0)\n",
    "\n",
    "# Train on debug data\n",
    "tron = PerceptronClassifier(0.1,10,False)\n",
    "tron.fit(X,y)\n",
    "\n",
    "# Check accuracy and weights\n",
    "print(\"\\nAccuracy: \" + str(tron.score(X,y)))\n",
    "print(\"Weights: \" + str(tron.get_weights()))"
   ]
  },
  {
   "cell_type": "markdown",
   "metadata": {
    "id": "kY3VNB1ui03N"
   },
   "source": [
    "## Evaluation\n",
    "\n",
    "Evaluate model based on it's performance on the [evaluation dataset](https://raw.githubusercontent.com/cs472ta/CS472/master/datasets/data_banknote_authentication.arff)"
   ]
  },
  {
   "cell_type": "code",
   "execution_count": 28,
   "metadata": {
    "id": "2yAxA78QjDh2"
   },
   "outputs": [
    {
     "name": "stdout",
     "output_type": "stream",
     "text": [
      "  % Total    % Received % Xferd  Average Speed   Time    Time     Time  Current\n",
      "                                 Dload  Upload   Total   Spent    Left  Speed\n",
      "100 46685  100 46685    0     0   342k      0 --:--:-- --:--:-- --:--:--  342k\n",
      "\n",
      "Accuracy: 0.9876093294460642\n",
      "Weights: \n",
      "[-3.80657242 -2.8408210000000014 -3.0719334000000034 -1.4003906000000004\n",
      " 4.899999999999999]\n"
     ]
    }
   ],
   "source": [
    "# Load evaluation data\n",
    "# Download file with curl\n",
    "!curl https://raw.githubusercontent.com/cs472ta/CS472/master/datasets/data_banknote_authentication.arff --output data_banknote_authentication.arff\n",
    "\n",
    "data = arff.loadarff('data_banknote_authentication.arff')\n",
    "df = pd.DataFrame(data[0])\n",
    "df.head()\n",
    "eval = np.array(df)\n",
    "\n",
    "X = eval[:,:-1]\n",
    "y = eval[:,-1]\n",
    "y[y == b'1'] = int(1)\n",
    "y[y == b'0'] = int(0)\n",
    "\n",
    "# Train on debug data\n",
    "eval_tron = PerceptronClassifier(0.1,10,False)\n",
    "eval_tron.fit(X,y)\n",
    "\n",
    "# Check accuracy and weights\n",
    "print(\"\\nAccuracy: \" + str(eval_tron.score(X,y)))\n",
    "print(\"Weights: \\n\" + str(eval_tron.get_weights()))"
   ]
  },
  {
   "cell_type": "markdown",
   "metadata": {
    "id": "9vWiTdlbR2Xh"
   },
   "source": [
    "## Create 2 datasets\n",
    "\n",
    "- Both with 8 instances using 2 real valued inputs (ranging between -1 and 1) with 4 instances from each class. \n",
    "- One data set should be linearly separable and the other not.\n",
    "- Graph each dataset"
   ]
  },
  {
   "cell_type": "code",
   "execution_count": 29,
   "metadata": {
    "id": "4SSoasDQSKXb",
    "scrolled": false
   },
   "outputs": [
    {
     "data": {
      "image/png": "[encoded data removed]",
      "text/plain": [
       "<Figure size 432x288 with 1 Axes>"
      ]
     },
     "metadata": {
      "needs_background": "light"
     },
     "output_type": "display_data"
    },
    {
     "data": {
      "image/png": "[encoded data removed]",
      "text/plain": [
       "<Figure size 432x288 with 1 Axes>"
      ]
     },
     "metadata": {
      "needs_background": "light"
     },
     "output_type": "display_data"
    }
   ],
   "source": [
    "# Create 2 datasets\n",
    "separable = np.array([[-.2,-.15,0],[-.3,-.5,0],[.3,-.5,0],[-.7,-1,0],[.75,-.4,1],[.9,.2,1],[-.8,.9,1],[.01,.4,1]])\n",
    "plt.scatter(separable[:4,0],separable[:4,1],c='blue',marker='o',label=\"Class 1\")\n",
    "plt.scatter(separable[4:,0],separable[4:,1],c='orange',marker='o',label=\"Class 2\")\n",
    "plt.legend(loc=\"best\")\n",
    "plt.xlabel(\"X\")\n",
    "plt.ylabel(\"y\")\n",
    "plt.title(\"Linearly Separable Data Set\")\n",
    "plt.show()\n",
    "\n",
    "nonseparable = np.array([[-.2,-.15,0],[.9,.2,0],[-.3,-.5,0],[-.7,-1,0],[.75,-.4,1],[.3,-.5,1],[-.8,.5,1],[.01,.4,1]])\n",
    "plt.scatter(nonseparable[:4,0],nonseparable[:4,1],c='blue',marker='o',label=\"Class 1\")\n",
    "plt.scatter(nonseparable[4:,0],nonseparable[4:,1],c='orange',marker='o',label=\"Class 2\")\n",
    "plt.legend(loc=\"best\")\n",
    "plt.xlabel(\"X\")\n",
    "plt.ylabel(\"y\")\n",
    "plt.title(\"Non-Linearly Separable Data Set\")\n",
    "plt.show()"
   ]
  },
  {
   "cell_type": "markdown",
   "metadata": {
    "id": "SIRG42TgSR4x"
   },
   "source": [
    "## Train on both sets with perceptron code.\n",
    "\n",
    "- Use a couple different learning rates.\n"
   ]
  },
  {
   "cell_type": "code",
   "execution_count": 30,
   "metadata": {
    "id": "KBGUn43ASiXW"
   },
   "outputs": [
    {
     "name": "stdout",
     "output_type": "stream",
     "text": [
      "Separable\n",
      "Learning Rate vs. Number of Epochs needed to converge:\n",
      "[[ 0.1  0.2  0.3  0.4  0.5  0.6  0.7  0.8  0.9  1. ]\n",
      " [ 6.   5.   7.   6.   6.   6.   9.   5.  10.   8. ]]\n",
      "\n",
      "Non-Separable\n",
      "Learning Rate vs. Number of Epochs needed to converge:\n",
      "[[ 0.1  0.2  0.3  0.4  0.5  0.6  0.7  0.8  0.9  1. ]\n",
      " [ 5.  13.   9.   5.   6.   6.   5.   9.   5.   5. ]]\n"
     ]
    }
   ],
   "source": [
    "# Train on each dataset\n",
    "\n",
    "rates = [.1*i for i in range(1,11)]\n",
    "\n",
    "# Separable\n",
    "num_epochs = []\n",
    "for lr in rates:\n",
    "    sep = PerceptronClassifier(lr)\n",
    "    # Random initialized weights\n",
    "    w = np.random.random(3)\n",
    "    sep.fit(separable[:,:-1],separable[:,-1],w)\n",
    "    num_epochs.append(sep.epochs)\n",
    "    w = sep.get_weights()\n",
    "print(\"Separable\\nLearning Rate vs. Number of Epochs needed to converge:\")\n",
    "print(np.row_stack((np.array(rates),num_epochs)))\n",
    "\n",
    "#Non-Separable\n",
    "num_epochs = []\n",
    "for lr in rates:\n",
    "    nonsep = PerceptronClassifier(lr)\n",
    "    # Random initialized weights\n",
    "    w = np.random.random(3)\n",
    "    nonsep.fit(nonseparable[:,:-1],nonseparable[:,-1],w)\n",
    "    num_epochs.append(nonsep.epochs)\n",
    "    w = sep.get_weights()\n",
    "print(\"\\nNon-Separable\\nLearning Rate vs. Number of Epochs needed to converge:\")\n",
    "print(np.row_stack((np.array(rates),num_epochs)))"
   ]
  },
  {
   "cell_type": "markdown",
   "metadata": {
    "id": "mOteTlV6S0bq"
   },
   "source": [
    "*Discussion of the effect of learning rate, including how many epochs are completed before stopping.*\n"
   ]
  },
  {
   "cell_type": "markdown",
   "metadata": {
    "id": "qmq9GSbJS8k2"
   },
   "source": [
    "### Discussion: \n",
    "\n",
    "For the separable set, it appears, generally, that the most epochs required to converge were in the beginning-middle of the possible values of learning rate, namely between 0.2 and 0.7.  This is indicative that the higher the learning rate, the faster the algorithm \"learns\" the data and is able to best fit the data.\n",
    "\n",
    "On the other hand, for the non-separable set, the algorithm performs best with higher learning rates (it seems that the higher the learning rate, the better it performs generally, in terms of efficiency of convergence).  This makes sense, since a lower learning value learns slower, resulting in more time necessary to approach a reasonable solution (especially considering the absence of a true decision line).  As the learning rates get higher, the algorithm can more quickly approach the solution, and although more responsive to outliers, the usage of shuffled data between epochs aids with preventing oscillatory tendencies."
   ]
  },
  {
   "cell_type": "markdown",
   "metadata": {
    "id": "v19fpixqTe-7"
   },
   "source": [
    "## Graph the instances and decision line for the two cases above (with LR=.1)"
   ]
  },
  {
   "cell_type": "code",
   "execution_count": 31,
   "metadata": {
    "id": "ZCPFUAGTS2sX"
   },
   "outputs": [
    {
     "data": {
      "image/png": "[encoded data removed]",
      "text/plain": [
       "<Figure size 432x288 with 1 Axes>"
      ]
     },
     "metadata": {
      "needs_background": "light"
     },
     "output_type": "display_data"
    },
    {
     "data": {
      "image/png": "[encoded data removed]",
      "text/plain": [
       "<Figure size 432x288 with 1 Axes>"
      ]
     },
     "metadata": {
      "needs_background": "light"
     },
     "output_type": "display_data"
    }
   ],
   "source": [
    "# Graph decision line\n",
    "\n",
    "#Separable\n",
    "num_epochs = []\n",
    "domain = np.linspace(-1,1,200)\n",
    "sep = PerceptronClassifier(.1)\n",
    "sep.fit(separable[:,:-1],separable[:,-1])\n",
    "num_epochs.append(sep.epochs)\n",
    "w = sep.get_weights()\n",
    "y = lambda x: (-w[2]-w[0]*x)/w[1]\n",
    "plt.plot(domain, y(domain),\"g-\",label=\"Line lr=\" + str(.1))\n",
    "\n",
    "plt.scatter(separable[:4,0],separable[:4,1],c='blue',marker='o',label=\"Class 1\")\n",
    "plt.scatter(separable[4:,0],separable[4:,1],c='orange',marker='o',label=\"Class 2\")\n",
    "plt.legend(loc=\"best\")\n",
    "plt.xlabel(\"X\")\n",
    "plt.ylabel(\"y\")\n",
    "plt.title(\"Linearly Separable Data Set\")\n",
    "plt.show()\n",
    "\n",
    "#Non-Separable\n",
    "nonsep = PerceptronClassifier(.1)\n",
    "nonsep.fit(nonseparable[:,:-1],nonseparable[:,-1])\n",
    "num_epochs.append(nonsep.epochs)\n",
    "w = sep.get_weights()\n",
    "y = lambda x: (-w[2]-w[0]*x)/w[1]\n",
    "plt.plot(domain, y(domain),\"g-\",label=\"Line lr=\" + str(.1))\n",
    "\n",
    "plt.scatter(nonseparable[:4,0],nonseparable[:4,1],c='blue',marker='o',label=\"Class 1\")\n",
    "plt.scatter(nonseparable[4:,0],nonseparable[4:,1],c='orange',marker='o',label=\"Class 2\")\n",
    "plt.legend(loc=\"best\")\n",
    "plt.xlabel(\"X\")\n",
    "plt.ylabel(\"y\")\n",
    "plt.title(\"Non-Linearly Separable Data Set\")\n",
    "plt.show()"
   ]
  },
  {
   "cell_type": "markdown",
   "metadata": {
    "id": "0ySvhd1lUGSe"
   },
   "source": [
    "## Use perceptron code to learn this version of the [voting data set](https://raw.githubusercontent.com/rmorain/CS472-1/master/datasets/perceptron/voting-dataset.arff).\n",
    "\n",
    "This particular set is an edited version of the standard voting set, where I have replaced all the “don’t know” values with the most common value for the particular attribute.  \n",
    "\n",
    "### Create a table that reports the final training and test set accuracy and the number of epochs for each trial.\n",
    "\n",
    "- Try it five times with different random 70/30 splits, splitting using my own implementation\n",
    "- Report the average of these values for the 5 trials in the table.  \n",
    "\n",
    "\n",
    "*- As a rough sanity check, typical Perceptron test accuracies for the voting data set are 90%-98%.*\n"
   ]
  },
  {
   "cell_type": "code",
   "execution_count": 32,
   "metadata": {
    "id": "Romyl4G8Trki"
   },
   "outputs": [
    {
     "name": "stdout",
     "output_type": "stream",
     "text": [
      "  % Total    % Received % Xferd  Average Speed   Time    Time     Time  Current\n",
      "                                 Dload  Upload   Total   Spent    Left  Speed\n",
      "100 43825  100 43825    0     0   312k      0 --:--:-- --:--:-- --:--:--  312k\n",
      "-----  ------------------  ------------------  ----------------\n",
      "Trial  Training Accuracy   Test Accuracy       Number of Epochs\n",
      "1      0.9597523219814241  0.9420289855072463  5\n",
      "2      0.9009287925696594  0.9057971014492754  13\n",
      "3      0.9659442724458205  0.9927536231884058  5\n",
      "4      0.9628482972136223  0.9710144927536232  5\n",
      "5      0.9566563467492261  0.9130434782608695  5\n",
      "Avgs   0.9492260061919504  0.944927536231884   6.6\n",
      "-----  ------------------  ------------------  ----------------\n",
      "\n",
      "Weights:\n",
      "[-0.2, 0.0, -1.0, 2.2, 0.6, -0.4, -0.2, 0.6, -0.8, 0.4, -1.6, 0.2, -0.2, 0.0, -0.4, 1.0, -1.0]\n",
      "[1.0, -0.6, -1.0, 4.2, 0.8, -0.2, 1.2, 0.2, -1.4, 1.6, -1.6, 0.4, -0.2, -0.0, -1.0, 0.4, -1.6]\n",
      "[0.0, -0.2, -1.2, 2.8, 0.4, -0.4, 0.8, 0.6, -0.4, 0.4, -1.2, 0.0, 0.2, -0.2, -0.6, 0.4, -1.4]\n",
      "[-0.4, -0.6, -1.6, 2.2, 0.6, -0.4, 0.4, 1.0, -1.0, 0.6, -1.2, -0.2, 0.2, -0.0, -0.6, 0.4, -0.8]\n",
      "[0.0, -0.2, -1.2, 2.0, 0.2, -0.4, 0.8, 0.6, 0.2, 0.6, -1.0, 0.4, -0.2, 0.2, -1.2, -0.2, -1.4]\n"
     ]
    }
   ],
   "source": [
    "# Create table any way you like\n",
    "# Download file with curl\n",
    "!curl https://raw.githubusercontent.com/rmorain/CS472-1/master/datasets/perceptron/voting-dataset.arff --output voting-dataset.arff\n",
    "\n",
    "data = arff.loadarff('voting-dataset.arff')\n",
    "df = pd.DataFrame(data[0])\n",
    "df.head()\n",
    "votes = np.array(df)\n",
    "\n",
    "votes[votes == b'n'] = 0\n",
    "votes[votes == b'y'] = 1\n",
    "votes[votes == b'democrat'] = 0\n",
    "votes[votes == b'republican'] = 1\n",
    "misclassification = []\n",
    "\n",
    "results = []\n",
    "weights = []\n",
    "for i in range(5):\n",
    "    tmp = []\n",
    "    tmp.append(i+1)\n",
    "    \n",
    "    # Randomize and Split Data\n",
    "    n = votes.shape[0]\n",
    "    indices = [i for i in range(n)]\n",
    "    np.random.shuffle(indices)\n",
    "    votes_ = votes[indices,:]\n",
    "    \n",
    "    X_train = votes_[:int(n*.7)+1,:-1]\n",
    "    y_train = votes_[:int(n*.7)+1,-1]\n",
    "    X_test = votes_[int(n*.7)+1:,:-1]\n",
    "    y_test = votes_[int(n*.7)+1:,-1]\n",
    "    \n",
    "    # Train and evaluate\n",
    "    vote_tron = PerceptronClassifier(.2)\n",
    "    vote_tron.fit(X_train, y_train)\n",
    "    misclassification.append(1-np.array(vote_tron.epoch_accuracies))\n",
    "    tmp.append(vote_tron.score(X_train, y_train))\n",
    "    tmp.append(vote_tron.score(X_test, y_test))\n",
    "    tmp.append(vote_tron.epochs)\n",
    "    weights.append(vote_tron.get_weights())\n",
    "    results.append(tmp)\n",
    "res = np.array(results)\n",
    "avg = [\"Avgs\", np.mean(res[:,1]),np.mean(res[:,2]),np.mean(res[:,3])]\n",
    "results.append(np.array(avg))\n",
    "results.insert(0,[\"Trial\",\"Training Accuracy\",\"Test Accuracy\", \"Number of Epochs\"])\n",
    "from tabulate import tabulate\n",
    "print(tabulate(results))\n",
    "print(\"\\nWeights:\")\n",
    "for w in weights:\n",
    "    print([round(elem, 2) for elem in w])"
   ]
  },
  {
   "cell_type": "markdown",
   "metadata": {
    "id": "cm4rbWkzVeoR"
   },
   "source": [
    "### By looking at the weights, explanation of what the model has learned and how the individual input features affect the result. Which specific features are most critical for the voting task, and which are least critical? \n"
   ]
  },
  {
   "cell_type": "markdown",
   "metadata": {
    "id": "g3F0Qp-BVi1R"
   },
   "source": [
    "By Analyzing the weights, we see that among the 5 trials, the weights of each feature are fairly consistent, which indicates a precise learning of the data (and fairly accurate, considering the accuracy ratings).  Overall, the features with the most impact are the Physician Fee Freeze, and to a lesser extent the Adoption of Budget Resolution, Aid to Nicaraguan Contras, MX Missiles, and Synfuels Corporation Cutback.  Among those that affected the least include Eduation Spending, Superfund Right to Sue, Crime, and Handicapped Infants.  "
   ]
  },
  {
   "cell_type": "markdown",
   "metadata": {
    "id": "NyUmJ4yWVsQ7"
   },
   "source": [
    "### Make a graph of the average misclassification rate vs epochs (0th – final epoch).\n",
    "\n",
    "- Average the misclassification rate for the training set across the 5 trials (not across 5 epochs).\n"
   ]
  },
  {
   "cell_type": "code",
   "execution_count": 33,
   "metadata": {
    "id": "2_ZRPWWVVeFM"
   },
   "outputs": [
    {
     "data": {
      "image/png": "[encoded data removed]",
      "text/plain": [
       "<Figure size 432x288 with 1 Axes>"
      ]
     },
     "metadata": {
      "needs_background": "light"
     },
     "output_type": "display_data"
    }
   ],
   "source": [
    "# Graph here\n",
    "misclassification = np.array(misclassification)\n",
    "misclassification = np.mean(misclassification,axis=1)\n",
    "    \n",
    "def plot_misclassification(avg_misclassification_rate):\n",
    "    \"\"\"\n",
    "        Plots the average misclassification rate\n",
    "    Args:\n",
    "        avg_misclassification_rate (array-like): A 1D array or list\n",
    "    \"\"\"\n",
    "    plt.plot(np.arange(len(avg_misclassification_rate)), avg_misclassification_rate)\n",
    "    plt.title(\"Average Misclassification Rate vs. Epoch\")\n",
    "    plt.xlabel(\"Epoch\")\n",
    "    plt.ylabel(\"Misclassification Rate\")\n",
    "    plt.show()\n",
    "\n",
    "plot_misclassification(misclassification)\n"
   ]
  },
  {
   "cell_type": "markdown",
   "metadata": {},
   "source": [
    "# TODO: Use SKLearn to implement the Perceptron algorithm, answering the following questions"
   ]
  },
  {
   "cell_type": "markdown",
   "metadata": {
    "id": "oBBmeNQ7jvcQ"
   },
   "source": [
    "## Use the perceptron algorithm from the [scikit-learn toolkit](https://scikit-learn.org/stable/modules/generated/sklearn.linear_model.Perceptron.html) to learn the voting task above and also one other data set of my choice.\n",
    "\n",
    "- Report and compare results.\n",
    "- Try out some of the hyper-parameters that scikit-learn makes available on my own perceptron."
   ]
  },
  {
   "cell_type": "code",
   "execution_count": 1,
   "metadata": {
    "id": "OFQv70W2VyqJ"
   },
   "outputs": [],
   "source": [
    "# Load sklearn perceptron\n",
    "\n",
    "# Train on voting dataset"
   ]
  },
  {
   "cell_type": "markdown",
   "metadata": {
    "id": "BqSFAXwlk3Ms"
   },
   "source": [
    "*Report comparison*"
   ]
  },
  {
   "cell_type": "markdown",
   "metadata": {
    "id": "cTlK-kijk8Mg"
   },
   "source": [
    "## Use the perceptron rule to learn the [iris task](https://raw.githubusercontent.com/cs472ta/CS472/master/datasets/iris.arff) or some other task with more than two possible output values. \n",
    "\n",
    "Note that the [iris data](https://raw.githubusercontent.com/cs472ta/CS472/master/datasets/iris.arff) set has 3 output classes, and a perceptron node only has two possible outputs.  Possibly could implement either of the two most common ways to deal with this. For testing, just execute the novel instance on each model and combine the overall results to see which output class wins."
   ]
  },
  {
   "cell_type": "code",
   "execution_count": null,
   "metadata": {
    "id": "5iY77P7gk1Nh"
   },
   "outputs": [],
   "source": []
  },
  {
   "cell_type": "code",
   "execution_count": null,
   "metadata": {},
   "outputs": [],
   "source": []
  }
 ],
 "metadata": {
  "colab": {
   "collapsed_sections": [],
   "name": "lab 1 - perceptron",
   "provenance": []
  },
  "kernelspec": {
   "display_name": "Python 3 (ipykernel)",
   "language": "python",
   "name": "python3"
  },
  "language_info": {
   "codemirror_mode": {
    "name": "ipython",
    "version": 3
   },
   "file_extension": ".py",
   "mimetype": "text/x-python",
   "name": "python",
   "nbconvert_exporter": "python",
   "pygments_lexer": "ipython3",
   "version": "3.8.11"
  }
 },
 "nbformat": 4,
 "nbformat_minor": 4
}
